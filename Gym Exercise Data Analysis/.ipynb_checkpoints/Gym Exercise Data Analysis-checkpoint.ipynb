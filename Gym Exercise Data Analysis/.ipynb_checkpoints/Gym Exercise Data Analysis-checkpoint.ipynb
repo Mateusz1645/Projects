{
 "cells": [
  {
   "cell_type": "markdown",
   "id": "54f78984",
   "metadata": {},
   "source": [
    "## Importing libraries"
   ]
  },
  {
   "cell_type": "code",
   "execution_count": 2,
   "id": "a86eb8d8",
   "metadata": {},
   "outputs": [],
   "source": [
    "import numpy as np\n",
    "import matplotlib.pyplot as plt\n",
    "import pandas as pd"
   ]
  },
  {
   "cell_type": "markdown",
   "id": "3681d9f8",
   "metadata": {},
   "source": [
    "## Loading data from csv file\n",
    "\n",
    "Data is taken from the website Kaggle : https://www.kaggle.com/datasets/niharika41298/gym-exercise-data/data\n",
    "\n",
    "Data is published on License CC0: Public Domain"
   ]
  },
  {
   "cell_type": "code",
   "execution_count": 4,
   "id": "094043c9",
   "metadata": {},
   "outputs": [
    {
     "name": "stdout",
     "output_type": "stream",
     "text": [
      "   Unnamed: 0                         Title  \\\n",
      "0           0        Partner plank band row   \n",
      "1           1  Banded crunch isometric hold   \n",
      "2           2         FYR Banded Plank Jack   \n",
      "3           3                 Banded crunch   \n",
      "4           4                        Crunch   \n",
      "\n",
      "                                                Desc      Type    BodyPart  \\\n",
      "0  The partner plank band row is an abdominal exe...  Strength  Abdominals   \n",
      "1  The banded crunch isometric hold is an exercis...  Strength  Abdominals   \n",
      "2  The banded plank jack is a variation on the pl...  Strength  Abdominals   \n",
      "3  The banded crunch is an exercise targeting the...  Strength  Abdominals   \n",
      "4  The crunch is a popular core exercise targetin...  Strength  Abdominals   \n",
      "\n",
      "  Equipment         Level  Rating RatingDesc  \n",
      "0     Bands  Intermediate     0.0        NaN  \n",
      "1     Bands  Intermediate     NaN        NaN  \n",
      "2     Bands  Intermediate     NaN        NaN  \n",
      "3     Bands  Intermediate     NaN        NaN  \n",
      "4     Bands  Intermediate     NaN        NaN  \n"
     ]
    }
   ],
   "source": [
    "data = pd.read_csv('Gym_Exercise_data_set.csv')\n",
    "\n",
    "print(data.head())"
   ]
  },
  {
   "cell_type": "code",
   "execution_count": null,
   "id": "8070d8ed",
   "metadata": {},
   "outputs": [],
   "source": []
  }
 ],
 "metadata": {
  "kernelspec": {
   "display_name": "Python 3 (ipykernel)",
   "language": "python",
   "name": "python3"
  },
  "language_info": {
   "codemirror_mode": {
    "name": "ipython",
    "version": 3
   },
   "file_extension": ".py",
   "mimetype": "text/x-python",
   "name": "python",
   "nbconvert_exporter": "python",
   "pygments_lexer": "ipython3",
   "version": "3.9.18"
  }
 },
 "nbformat": 4,
 "nbformat_minor": 5
}
